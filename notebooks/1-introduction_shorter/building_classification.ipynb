{
 "cells": [
  {
   "cell_type": "code",
   "execution_count": 2,
   "metadata": {},
   "outputs": [
    {
     "ename": "RuntimeError",
     "evalue": "stack expects a non-empty TensorList",
     "output_type": "error",
     "traceback": [
      "\u001b[31m---------------------------------------------------------------------------\u001b[39m",
      "\u001b[31mRuntimeError\u001b[39m                              Traceback (most recent call last)",
      "\u001b[36mCell\u001b[39m\u001b[36m \u001b[39m\u001b[32mIn[2]\u001b[39m\u001b[32m, line 13\u001b[39m\n\u001b[32m     11\u001b[39m images_loader = ImagesLoader(image_shape=image_shape, nodata=nodata)\n\u001b[32m     12\u001b[39m images_loader.load_data(images_path, masks_path)\n\u001b[32m---> \u001b[39m\u001b[32m13\u001b[39m dataloaders = \u001b[43mimages_loader\u001b[49m\u001b[43m.\u001b[49m\u001b[43mget_dataloaders\u001b[49m\u001b[43m(\u001b[49m\u001b[43mbatch_size\u001b[49m\u001b[43m=\u001b[49m\u001b[32;43m8\u001b[39;49m\u001b[43m,\u001b[49m\u001b[43m \u001b[49m\u001b[43mtrain_proportion\u001b[49m\u001b[43m=\u001b[49m\u001b[32;43m0.8\u001b[39;49m\u001b[43m)\u001b[49m\n\u001b[32m     15\u001b[39m model = SegmentationConvolutionalNetwork(image_size=image_shape)\n\u001b[32m     17\u001b[39m \u001b[38;5;66;03m# Better speed for CPU\u001b[39;00m\n",
      "\u001b[36mFile \u001b[39m\u001b[32m~/Documents/Geodan/ML-Course/notebooks/1-introduction_shorter/simple_model/dataloader.py:77\u001b[39m, in \u001b[36mImagesLoader.get_dataloaders\u001b[39m\u001b[34m(self, batch_size, train_proportion)\u001b[39m\n\u001b[32m     75\u001b[39m \u001b[38;5;28;01mdef\u001b[39;00m\u001b[38;5;250m \u001b[39m\u001b[34mget_dataloaders\u001b[39m(\u001b[38;5;28mself\u001b[39m, batch_size: \u001b[38;5;28mint\u001b[39m, train_proportion: \u001b[38;5;28mfloat\u001b[39m):\n\u001b[32m     76\u001b[39m     train_size = \u001b[38;5;28mint\u001b[39m(train_proportion * \u001b[38;5;28mlen\u001b[39m(\u001b[38;5;28mself\u001b[39m.images))\n\u001b[32m---> \u001b[39m\u001b[32m77\u001b[39m     images = \u001b[38;5;28;43mself\u001b[39;49m\u001b[43m.\u001b[49m\u001b[43mget_images\u001b[49m\u001b[43m(\u001b[49m\u001b[43m)\u001b[49m\n\u001b[32m     78\u001b[39m     masks = \u001b[38;5;28mself\u001b[39m.get_masks()\n\u001b[32m     79\u001b[39m     indices = torch.tensor(\u001b[38;5;28mself\u001b[39m.indices)\n",
      "\u001b[36mFile \u001b[39m\u001b[32m~/Documents/Geodan/ML-Course/notebooks/1-introduction_shorter/simple_model/dataloader.py:70\u001b[39m, in \u001b[36mImagesLoader.get_images\u001b[39m\u001b[34m(self)\u001b[39m\n\u001b[32m     69\u001b[39m \u001b[38;5;28;01mdef\u001b[39;00m\u001b[38;5;250m \u001b[39m\u001b[34mget_images\u001b[39m(\u001b[38;5;28mself\u001b[39m):\n\u001b[32m---> \u001b[39m\u001b[32m70\u001b[39m     \u001b[38;5;28;01mreturn\u001b[39;00m \u001b[43mtorch\u001b[49m\u001b[43m.\u001b[49m\u001b[43mstack\u001b[49m\u001b[43m(\u001b[49m\u001b[38;5;28;43mself\u001b[39;49m\u001b[43m.\u001b[49m\u001b[43mimages\u001b[49m\u001b[43m)\u001b[49m.unsqueeze(-\u001b[32m1\u001b[39m).transpose(\u001b[32m1\u001b[39m, -\u001b[32m1\u001b[39m)\n",
      "\u001b[31mRuntimeError\u001b[39m: stack expects a non-empty TensorList"
     ]
    }
   ],
   "source": [
    "from pathlib import Path\n",
    "from simple_model.dataloader import ImagesLoader\n",
    "from simple_model.nn import SegmentationConvolutionalNetwork\n",
    "import torch\n",
    "\n",
    "image_shape = (512, 512)\n",
    "nodata = 0\n",
    "images_path = Path(\"data/image/tiles\")\n",
    "masks_path = Path(\"data/mask/tiles\")\n",
    "\n",
    "images_loader = ImagesLoader(image_shape=image_shape, nodata=nodata)\n",
    "images_loader.load_data(images_path, masks_path)\n",
    "dataloaders = images_loader.get_dataloaders(batch_size=8, train_proportion=0.8)\n",
    "\n",
    "model = SegmentationConvolutionalNetwork(image_size=image_shape)\n",
    "\n",
    "# Better speed for CPU\n",
    "torch.compile(model)\n",
    "\n",
    "model.run(dataloaders=dataloaders, epochs=200, stop_early_after=15)\n",
    "\n",
    "prediction_folder = Path(\"data/prediction\")\n",
    "error_folder = Path(\"data/error\")\n",
    "probabilities_folder = Path(\"data/probabilities\")\n",
    "model.save_predictions(\n",
    "    images_loader=images_loader,\n",
    "    dataloaders=dataloaders,\n",
    "    prediction_folder=prediction_folder,\n",
    "    error_folder=error_folder,\n",
    "    probabilities_folder=probabilities_folder,\n",
    ")"
   ]
  }
 ],
 "metadata": {
  "kernelspec": {
   "display_name": ".venv",
   "language": "python",
   "name": "python3"
  },
  "language_info": {
   "codemirror_mode": {
    "name": "ipython",
    "version": 3
   },
   "file_extension": ".py",
   "mimetype": "text/x-python",
   "name": "python",
   "nbconvert_exporter": "python",
   "pygments_lexer": "ipython3",
   "version": "3.12.3"
  }
 },
 "nbformat": 4,
 "nbformat_minor": 2
}
